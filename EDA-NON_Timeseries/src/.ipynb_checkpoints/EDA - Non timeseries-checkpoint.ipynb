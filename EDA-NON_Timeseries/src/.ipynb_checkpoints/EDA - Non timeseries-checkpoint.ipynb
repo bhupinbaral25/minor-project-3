{
 "cells": [
  {
   "cell_type": "code",
   "execution_count": 1,
   "id": "2a47a97b",
   "metadata": {},
   "outputs": [],
   "source": [
    "!python utils.py\n",
    "%load_ext autoreload\n",
    "%autoreload 2"
   ]
  },
  {
   "cell_type": "markdown",
   "id": "e2c67adf",
   "metadata": {},
   "source": [
    "# Data Description"
   ]
  },
  {
   "cell_type": "raw",
   "id": "42b5df16",
   "metadata": {},
   "source": [
    "\n",
    "age: The person's age in years\n",
    "sex: The person's sex (1 = male, 0 = female)\n",
    "cp: The chest pain experienced (Value 1: typical angina, Value 2: atypical angina, Value 3: non-anginal pain, Value 4: asymptomatic)\n",
    "trtbps: The person's resting blood pressure (mm Hg on admission to the hospital)\n",
    "chol: The person's cholesterol measurement in mg/dl\n",
    "fbs: The person's fasting blood sugar (> 120 mg/dl, 1 = true; 0 = false)\n",
    "restecg: Resting electrocardiographic measurement (0 = normal, 1 = having ST-T wave abnormality, 2 = showing probable or definite left ventricular hypertrophy by Estes' criteria)\n",
    "thalach: The person's maximum heart rate achieved\n",
    "exang: Exercise induced angina (1 = yes; 0 = no)\n",
    "oldpeak: ST depression induced by exercise relative to rest ('ST' relates to positions on the ECG plot)\n",
    "slp: the slope of the peak exercise ST segment (Value 1: upsloping, Value 2: flat, Value 3: downsloping)\n",
    "caa: The number of major vessels (0-3)\n",
    "thall: A blood disorder called thalassemia (3 = normal; 6 = fixed defect; 7 = reversable defect)  inherited blood disorder that causes body to have less hemoglobin than normal\n",
    "output: Heart disease (0 = no, 1 = yes)"
   ]
  },
  {
   "cell_type": "code",
   "execution_count": 2,
   "id": "39c14a3a",
   "metadata": {},
   "outputs": [],
   "source": [
    "\n",
    "import numpy as np\n",
    "import pandas as pd\n",
    "import matplotlib.pyplot as plt\n",
    "import seaborn as sns\n",
    "from sklearn.model_selection import train_test_split\n",
    "from sklearn.model_selection import StratifiedShuffleSplit, cross_val_score\n",
    "from sklearn.linear_model import LogisticRegression\n",
    "from sklearn.tree import DecisionTreeClassifier\n",
    "from sklearn.ensemble import RandomForestClassifier\n",
    "from sklearn.metrics import confusion_matrix\n",
    "\n",
    "import warnings\n",
    "warnings.filterwarnings('ignore')\n"
   ]
  },
  {
   "cell_type": "code",
   "execution_count": 3,
   "id": "7187874d",
   "metadata": {},
   "outputs": [
    {
     "ename": "FileNotFoundError",
     "evalue": "[Errno 2] No such file or directory: 'heart.csv'",
     "output_type": "error",
     "traceback": [
      "\u001b[0;31m---------------------------------------------------------------------------\u001b[0m",
      "\u001b[0;31mFileNotFoundError\u001b[0m                         Traceback (most recent call last)",
      "\u001b[0;32m/tmp/ipykernel_3920/3500034740.py\u001b[0m in \u001b[0;36m<module>\u001b[0;34m\u001b[0m\n\u001b[0;32m----> 1\u001b[0;31m \u001b[0mheart_data\u001b[0m \u001b[0;34m=\u001b[0m \u001b[0mpd\u001b[0m\u001b[0;34m.\u001b[0m\u001b[0mread_csv\u001b[0m\u001b[0;34m(\u001b[0m\u001b[0;34m'heart.csv'\u001b[0m\u001b[0;34m)\u001b[0m\u001b[0;34m\u001b[0m\u001b[0;34m\u001b[0m\u001b[0m\n\u001b[0m",
      "\u001b[0;32m~/project-3/p3env/lib/python3.8/site-packages/pandas/util/_decorators.py\u001b[0m in \u001b[0;36mwrapper\u001b[0;34m(*args, **kwargs)\u001b[0m\n\u001b[1;32m    309\u001b[0m                     \u001b[0mstacklevel\u001b[0m\u001b[0;34m=\u001b[0m\u001b[0mstacklevel\u001b[0m\u001b[0;34m,\u001b[0m\u001b[0;34m\u001b[0m\u001b[0;34m\u001b[0m\u001b[0m\n\u001b[1;32m    310\u001b[0m                 )\n\u001b[0;32m--> 311\u001b[0;31m             \u001b[0;32mreturn\u001b[0m \u001b[0mfunc\u001b[0m\u001b[0;34m(\u001b[0m\u001b[0;34m*\u001b[0m\u001b[0margs\u001b[0m\u001b[0;34m,\u001b[0m \u001b[0;34m**\u001b[0m\u001b[0mkwargs\u001b[0m\u001b[0;34m)\u001b[0m\u001b[0;34m\u001b[0m\u001b[0;34m\u001b[0m\u001b[0m\n\u001b[0m\u001b[1;32m    312\u001b[0m \u001b[0;34m\u001b[0m\u001b[0m\n\u001b[1;32m    313\u001b[0m         \u001b[0;32mreturn\u001b[0m \u001b[0mwrapper\u001b[0m\u001b[0;34m\u001b[0m\u001b[0;34m\u001b[0m\u001b[0m\n",
      "\u001b[0;32m~/project-3/p3env/lib/python3.8/site-packages/pandas/io/parsers/readers.py\u001b[0m in \u001b[0;36mread_csv\u001b[0;34m(filepath_or_buffer, sep, delimiter, header, names, index_col, usecols, squeeze, prefix, mangle_dupe_cols, dtype, engine, converters, true_values, false_values, skipinitialspace, skiprows, skipfooter, nrows, na_values, keep_default_na, na_filter, verbose, skip_blank_lines, parse_dates, infer_datetime_format, keep_date_col, date_parser, dayfirst, cache_dates, iterator, chunksize, compression, thousands, decimal, lineterminator, quotechar, quoting, doublequote, escapechar, comment, encoding, encoding_errors, dialect, error_bad_lines, warn_bad_lines, on_bad_lines, delim_whitespace, low_memory, memory_map, float_precision, storage_options)\u001b[0m\n\u001b[1;32m    584\u001b[0m     \u001b[0mkwds\u001b[0m\u001b[0;34m.\u001b[0m\u001b[0mupdate\u001b[0m\u001b[0;34m(\u001b[0m\u001b[0mkwds_defaults\u001b[0m\u001b[0;34m)\u001b[0m\u001b[0;34m\u001b[0m\u001b[0;34m\u001b[0m\u001b[0m\n\u001b[1;32m    585\u001b[0m \u001b[0;34m\u001b[0m\u001b[0m\n\u001b[0;32m--> 586\u001b[0;31m     \u001b[0;32mreturn\u001b[0m \u001b[0m_read\u001b[0m\u001b[0;34m(\u001b[0m\u001b[0mfilepath_or_buffer\u001b[0m\u001b[0;34m,\u001b[0m \u001b[0mkwds\u001b[0m\u001b[0;34m)\u001b[0m\u001b[0;34m\u001b[0m\u001b[0;34m\u001b[0m\u001b[0m\n\u001b[0m\u001b[1;32m    587\u001b[0m \u001b[0;34m\u001b[0m\u001b[0m\n\u001b[1;32m    588\u001b[0m \u001b[0;34m\u001b[0m\u001b[0m\n",
      "\u001b[0;32m~/project-3/p3env/lib/python3.8/site-packages/pandas/io/parsers/readers.py\u001b[0m in \u001b[0;36m_read\u001b[0;34m(filepath_or_buffer, kwds)\u001b[0m\n\u001b[1;32m    480\u001b[0m \u001b[0;34m\u001b[0m\u001b[0m\n\u001b[1;32m    481\u001b[0m     \u001b[0;31m# Create the parser.\u001b[0m\u001b[0;34m\u001b[0m\u001b[0;34m\u001b[0m\u001b[0;34m\u001b[0m\u001b[0m\n\u001b[0;32m--> 482\u001b[0;31m     \u001b[0mparser\u001b[0m \u001b[0;34m=\u001b[0m \u001b[0mTextFileReader\u001b[0m\u001b[0;34m(\u001b[0m\u001b[0mfilepath_or_buffer\u001b[0m\u001b[0;34m,\u001b[0m \u001b[0;34m**\u001b[0m\u001b[0mkwds\u001b[0m\u001b[0;34m)\u001b[0m\u001b[0;34m\u001b[0m\u001b[0;34m\u001b[0m\u001b[0m\n\u001b[0m\u001b[1;32m    483\u001b[0m \u001b[0;34m\u001b[0m\u001b[0m\n\u001b[1;32m    484\u001b[0m     \u001b[0;32mif\u001b[0m \u001b[0mchunksize\u001b[0m \u001b[0;32mor\u001b[0m \u001b[0miterator\u001b[0m\u001b[0;34m:\u001b[0m\u001b[0;34m\u001b[0m\u001b[0;34m\u001b[0m\u001b[0m\n",
      "\u001b[0;32m~/project-3/p3env/lib/python3.8/site-packages/pandas/io/parsers/readers.py\u001b[0m in \u001b[0;36m__init__\u001b[0;34m(self, f, engine, **kwds)\u001b[0m\n\u001b[1;32m    809\u001b[0m             \u001b[0mself\u001b[0m\u001b[0;34m.\u001b[0m\u001b[0moptions\u001b[0m\u001b[0;34m[\u001b[0m\u001b[0;34m\"has_index_names\"\u001b[0m\u001b[0;34m]\u001b[0m \u001b[0;34m=\u001b[0m \u001b[0mkwds\u001b[0m\u001b[0;34m[\u001b[0m\u001b[0;34m\"has_index_names\"\u001b[0m\u001b[0;34m]\u001b[0m\u001b[0;34m\u001b[0m\u001b[0;34m\u001b[0m\u001b[0m\n\u001b[1;32m    810\u001b[0m \u001b[0;34m\u001b[0m\u001b[0m\n\u001b[0;32m--> 811\u001b[0;31m         \u001b[0mself\u001b[0m\u001b[0;34m.\u001b[0m\u001b[0m_engine\u001b[0m \u001b[0;34m=\u001b[0m \u001b[0mself\u001b[0m\u001b[0;34m.\u001b[0m\u001b[0m_make_engine\u001b[0m\u001b[0;34m(\u001b[0m\u001b[0mself\u001b[0m\u001b[0;34m.\u001b[0m\u001b[0mengine\u001b[0m\u001b[0;34m)\u001b[0m\u001b[0;34m\u001b[0m\u001b[0;34m\u001b[0m\u001b[0m\n\u001b[0m\u001b[1;32m    812\u001b[0m \u001b[0;34m\u001b[0m\u001b[0m\n\u001b[1;32m    813\u001b[0m     \u001b[0;32mdef\u001b[0m \u001b[0mclose\u001b[0m\u001b[0;34m(\u001b[0m\u001b[0mself\u001b[0m\u001b[0;34m)\u001b[0m\u001b[0;34m:\u001b[0m\u001b[0;34m\u001b[0m\u001b[0;34m\u001b[0m\u001b[0m\n",
      "\u001b[0;32m~/project-3/p3env/lib/python3.8/site-packages/pandas/io/parsers/readers.py\u001b[0m in \u001b[0;36m_make_engine\u001b[0;34m(self, engine)\u001b[0m\n\u001b[1;32m   1038\u001b[0m             )\n\u001b[1;32m   1039\u001b[0m         \u001b[0;31m# error: Too many arguments for \"ParserBase\"\u001b[0m\u001b[0;34m\u001b[0m\u001b[0;34m\u001b[0m\u001b[0;34m\u001b[0m\u001b[0m\n\u001b[0;32m-> 1040\u001b[0;31m         \u001b[0;32mreturn\u001b[0m \u001b[0mmapping\u001b[0m\u001b[0;34m[\u001b[0m\u001b[0mengine\u001b[0m\u001b[0;34m]\u001b[0m\u001b[0;34m(\u001b[0m\u001b[0mself\u001b[0m\u001b[0;34m.\u001b[0m\u001b[0mf\u001b[0m\u001b[0;34m,\u001b[0m \u001b[0;34m**\u001b[0m\u001b[0mself\u001b[0m\u001b[0;34m.\u001b[0m\u001b[0moptions\u001b[0m\u001b[0;34m)\u001b[0m  \u001b[0;31m# type: ignore[call-arg]\u001b[0m\u001b[0;34m\u001b[0m\u001b[0;34m\u001b[0m\u001b[0m\n\u001b[0m\u001b[1;32m   1041\u001b[0m \u001b[0;34m\u001b[0m\u001b[0m\n\u001b[1;32m   1042\u001b[0m     \u001b[0;32mdef\u001b[0m \u001b[0m_failover_to_python\u001b[0m\u001b[0;34m(\u001b[0m\u001b[0mself\u001b[0m\u001b[0;34m)\u001b[0m\u001b[0;34m:\u001b[0m\u001b[0;34m\u001b[0m\u001b[0;34m\u001b[0m\u001b[0m\n",
      "\u001b[0;32m~/project-3/p3env/lib/python3.8/site-packages/pandas/io/parsers/c_parser_wrapper.py\u001b[0m in \u001b[0;36m__init__\u001b[0;34m(self, src, **kwds)\u001b[0m\n\u001b[1;32m     49\u001b[0m \u001b[0;34m\u001b[0m\u001b[0m\n\u001b[1;32m     50\u001b[0m         \u001b[0;31m# open handles\u001b[0m\u001b[0;34m\u001b[0m\u001b[0;34m\u001b[0m\u001b[0;34m\u001b[0m\u001b[0m\n\u001b[0;32m---> 51\u001b[0;31m         \u001b[0mself\u001b[0m\u001b[0;34m.\u001b[0m\u001b[0m_open_handles\u001b[0m\u001b[0;34m(\u001b[0m\u001b[0msrc\u001b[0m\u001b[0;34m,\u001b[0m \u001b[0mkwds\u001b[0m\u001b[0;34m)\u001b[0m\u001b[0;34m\u001b[0m\u001b[0;34m\u001b[0m\u001b[0m\n\u001b[0m\u001b[1;32m     52\u001b[0m         \u001b[0;32massert\u001b[0m \u001b[0mself\u001b[0m\u001b[0;34m.\u001b[0m\u001b[0mhandles\u001b[0m \u001b[0;32mis\u001b[0m \u001b[0;32mnot\u001b[0m \u001b[0;32mNone\u001b[0m\u001b[0;34m\u001b[0m\u001b[0;34m\u001b[0m\u001b[0m\n\u001b[1;32m     53\u001b[0m \u001b[0;34m\u001b[0m\u001b[0m\n",
      "\u001b[0;32m~/project-3/p3env/lib/python3.8/site-packages/pandas/io/parsers/base_parser.py\u001b[0m in \u001b[0;36m_open_handles\u001b[0;34m(self, src, kwds)\u001b[0m\n\u001b[1;32m    220\u001b[0m         \u001b[0mLet\u001b[0m \u001b[0mthe\u001b[0m \u001b[0mreaders\u001b[0m \u001b[0mopen\u001b[0m \u001b[0mIOHandles\u001b[0m \u001b[0mafter\u001b[0m \u001b[0mthey\u001b[0m \u001b[0mare\u001b[0m \u001b[0mdone\u001b[0m \u001b[0;32mwith\u001b[0m \u001b[0mtheir\u001b[0m \u001b[0mpotential\u001b[0m \u001b[0mraises\u001b[0m\u001b[0;34m.\u001b[0m\u001b[0;34m\u001b[0m\u001b[0;34m\u001b[0m\u001b[0m\n\u001b[1;32m    221\u001b[0m         \"\"\"\n\u001b[0;32m--> 222\u001b[0;31m         self.handles = get_handle(\n\u001b[0m\u001b[1;32m    223\u001b[0m             \u001b[0msrc\u001b[0m\u001b[0;34m,\u001b[0m\u001b[0;34m\u001b[0m\u001b[0;34m\u001b[0m\u001b[0m\n\u001b[1;32m    224\u001b[0m             \u001b[0;34m\"r\"\u001b[0m\u001b[0;34m,\u001b[0m\u001b[0;34m\u001b[0m\u001b[0;34m\u001b[0m\u001b[0m\n",
      "\u001b[0;32m~/project-3/p3env/lib/python3.8/site-packages/pandas/io/common.py\u001b[0m in \u001b[0;36mget_handle\u001b[0;34m(path_or_buf, mode, encoding, compression, memory_map, is_text, errors, storage_options)\u001b[0m\n\u001b[1;32m    699\u001b[0m         \u001b[0;32mif\u001b[0m \u001b[0mioargs\u001b[0m\u001b[0;34m.\u001b[0m\u001b[0mencoding\u001b[0m \u001b[0;32mand\u001b[0m \u001b[0;34m\"b\"\u001b[0m \u001b[0;32mnot\u001b[0m \u001b[0;32min\u001b[0m \u001b[0mioargs\u001b[0m\u001b[0;34m.\u001b[0m\u001b[0mmode\u001b[0m\u001b[0;34m:\u001b[0m\u001b[0;34m\u001b[0m\u001b[0;34m\u001b[0m\u001b[0m\n\u001b[1;32m    700\u001b[0m             \u001b[0;31m# Encoding\u001b[0m\u001b[0;34m\u001b[0m\u001b[0;34m\u001b[0m\u001b[0;34m\u001b[0m\u001b[0m\n\u001b[0;32m--> 701\u001b[0;31m             handle = open(\n\u001b[0m\u001b[1;32m    702\u001b[0m                 \u001b[0mhandle\u001b[0m\u001b[0;34m,\u001b[0m\u001b[0;34m\u001b[0m\u001b[0;34m\u001b[0m\u001b[0m\n\u001b[1;32m    703\u001b[0m                 \u001b[0mioargs\u001b[0m\u001b[0;34m.\u001b[0m\u001b[0mmode\u001b[0m\u001b[0;34m,\u001b[0m\u001b[0;34m\u001b[0m\u001b[0;34m\u001b[0m\u001b[0m\n",
      "\u001b[0;31mFileNotFoundError\u001b[0m: [Errno 2] No such file or directory: 'heart.csv'"
     ]
    }
   ],
   "source": [
    "heart_data = pd.read_csv('heart.csv')"
   ]
  },
  {
   "cell_type": "code",
   "execution_count": null,
   "id": "45f959c5",
   "metadata": {},
   "outputs": [],
   "source": [
    "heart_data.sample(20)"
   ]
  },
  {
   "cell_type": "markdown",
   "id": "476d493e",
   "metadata": {},
   "source": [
    "# 1. EDA  "
   ]
  },
  {
   "cell_type": "code",
   "execution_count": null,
   "id": "f88c567d",
   "metadata": {},
   "outputs": [],
   "source": [
    "heart_data.isnull().sum()"
   ]
  },
  {
   "cell_type": "code",
   "execution_count": null,
   "id": "b2d94463",
   "metadata": {},
   "outputs": [],
   "source": [
    "heart_data.info()"
   ]
  },
  {
   "cell_type": "code",
   "execution_count": null,
   "id": "a925a069",
   "metadata": {},
   "outputs": [],
   "source": [
    "heart_data.describe()"
   ]
  },
  {
   "cell_type": "code",
   "execution_count": null,
   "id": "439eb4e5",
   "metadata": {
    "scrolled": true
   },
   "outputs": [],
   "source": [
    "heart_data.hist(figsize=(20,20));"
   ]
  },
  {
   "cell_type": "code",
   "execution_count": null,
   "id": "99eb558e",
   "metadata": {},
   "outputs": [],
   "source": [
    "heart_data[heart_data['output']==0].describe()"
   ]
  },
  {
   "cell_type": "code",
   "execution_count": null,
   "id": "436139ee",
   "metadata": {},
   "outputs": [],
   "source": [
    "heart_data[heart_data['output']==1].describe()"
   ]
  },
  {
   "cell_type": "code",
   "execution_count": null,
   "id": "85c55342",
   "metadata": {},
   "outputs": [],
   "source": [
    "sns.pairplot(heart_data[['age','trtbps', 'chol','thalachh','oldpeak','output']], hue='output')\n",
    "plt.show()"
   ]
  },
  {
   "cell_type": "code",
   "execution_count": null,
   "id": "5a902c24",
   "metadata": {},
   "outputs": [],
   "source": [
    "from utils import plot_boxplot\n",
    "features = ['cp','restecg', 'slp',\n",
    "                'caa', 'thall',\n",
    "                'age', 'trtbps',\n",
    "                'chol', 'thalachh', 'oldpeak']\n",
    "plot_boxplot(heart_data, features)"
   ]
  },
  {
   "cell_type": "code",
   "execution_count": null,
   "id": "01adfedd",
   "metadata": {},
   "outputs": [],
   "source": [
    "from utils import histogram_plot\n",
    "histogram_plot(heart_data, \"output\", \"cp\")"
   ]
  },
  {
   "cell_type": "code",
   "execution_count": null,
   "id": "a600d251",
   "metadata": {},
   "outputs": [],
   "source": [
    "histogram_plot(heart_data, \"output\", \"caa\")"
   ]
  },
  {
   "cell_type": "code",
   "execution_count": null,
   "id": "8b669913",
   "metadata": {},
   "outputs": [],
   "source": [
    "histogram_plot(heart_data, \"output\", \"thall\")"
   ]
  },
  {
   "cell_type": "code",
   "execution_count": null,
   "id": "f15426a9",
   "metadata": {},
   "outputs": [],
   "source": [
    "histogram_plot(heart_data, \"output\", \"restecg\")"
   ]
  },
  {
   "cell_type": "code",
   "execution_count": null,
   "id": "24f46004",
   "metadata": {},
   "outputs": [],
   "source": [
    "histogram_plot(heart_data, \"output\", \"slp\")"
   ]
  },
  {
   "cell_type": "code",
   "execution_count": null,
   "id": "a9673985",
   "metadata": {},
   "outputs": [],
   "source": [
    "histogram_plot(heart_data, \"output\", \"exng\")"
   ]
  },
  {
   "cell_type": "code",
   "execution_count": null,
   "id": "68315503",
   "metadata": {},
   "outputs": [],
   "source": [
    "histogram_plot(heart_data, \"output\", \"fbs\")"
   ]
  },
  {
   "cell_type": "code",
   "execution_count": null,
   "id": "5814dc38",
   "metadata": {},
   "outputs": [],
   "source": [
    "histogram_plot(heart_data, \"output\", \"sex\")"
   ]
  },
  {
   "cell_type": "code",
   "execution_count": null,
   "id": "649e2434",
   "metadata": {},
   "outputs": [],
   "source": [
    "from utils import numerical_data_analysis"
   ]
  },
  {
   "cell_type": "code",
   "execution_count": null,
   "id": "576246e0",
   "metadata": {},
   "outputs": [],
   "source": [
    "numerical_data_analysis(heart_data, \"age\")"
   ]
  },
  {
   "cell_type": "code",
   "execution_count": null,
   "id": "f37588e6",
   "metadata": {},
   "outputs": [],
   "source": [
    "numerical_data_analysis(heart_data, \"thalachh\")"
   ]
  },
  {
   "cell_type": "code",
   "execution_count": null,
   "id": "5e0cf5cb",
   "metadata": {},
   "outputs": [],
   "source": [
    "numerical_data_analysis(heart_data, \"chol\")"
   ]
  },
  {
   "cell_type": "code",
   "execution_count": null,
   "id": "e7e5f964",
   "metadata": {
    "scrolled": true
   },
   "outputs": [],
   "source": [
    "numerical_data_analysis(heart_data, \"trtbps\")"
   ]
  },
  {
   "cell_type": "markdown",
   "id": "b1ba8ec8",
   "metadata": {},
   "source": [
    "# 2) Feature Engineering"
   ]
  },
  {
   "cell_type": "markdown",
   "id": "df837ef4",
   "metadata": {},
   "source": [
    "From the box plots, We see that \n",
    "outliers are present in different features like trtbps, chol, thalachh, oldpeak, caa, thall.\n",
    "Removing Outlies Using Z score"
   ]
  },
  {
   "cell_type": "code",
   "execution_count": null,
   "id": "de0a74d2",
   "metadata": {},
   "outputs": [],
   "source": [
    "from utils import remove_outliers\n",
    "outlierfree_data = remove_outliers(heart_data)"
   ]
  },
  {
   "cell_type": "code",
   "execution_count": null,
   "id": "a94ec07c",
   "metadata": {},
   "outputs": [],
   "source": [
    "outlierfree_data.tail()"
   ]
  },
  {
   "cell_type": "code",
   "execution_count": null,
   "id": "41996b03",
   "metadata": {},
   "outputs": [],
   "source": [
    "plot_boxplot(outlierfree_data, features)"
   ]
  },
  {
   "cell_type": "code",
   "execution_count": null,
   "id": "d410d26e",
   "metadata": {},
   "outputs": [],
   "source": [
    "corr = outlierfree_data.corr().sort_values(by='output',ascending=False)\n",
    "corr['output']"
   ]
  },
  {
   "cell_type": "markdown",
   "id": "d445a6b6",
   "metadata": {},
   "source": [
    "# Drop the column with correlation nearly equal to 0 "
   ]
  },
  {
   "cell_type": "code",
   "execution_count": null,
   "id": "53c792bb",
   "metadata": {},
   "outputs": [],
   "source": [
    "outlierfree_data = outlierfree_data.drop(['fbs'],axis = 1)"
   ]
  },
  {
   "cell_type": "code",
   "execution_count": null,
   "id": "f1d8baeb",
   "metadata": {},
   "outputs": [],
   "source": [
    "outlierfree_data.sample(12)"
   ]
  },
  {
   "cell_type": "code",
   "execution_count": null,
   "id": "f3669fa8",
   "metadata": {},
   "outputs": [],
   "source": [
    "# from utils import datasplit\n",
    "# train_set, test_set = datasplit(outlierfree_data, test_size  = 0.2)"
   ]
  },
  {
   "cell_type": "code",
   "execution_count": null,
   "id": "359f65d3",
   "metadata": {},
   "outputs": [],
   "source": [
    "X = outlierfree_data.drop(\"output\", axis=1)\n",
    "Y = outlierfree_data[\"output\"]"
   ]
  },
  {
   "cell_type": "code",
   "execution_count": null,
   "id": "7f954968",
   "metadata": {},
   "outputs": [],
   "source": [
    "x_train, x_test, y_train, y_test = train_test_split(outlierfree_data.drop(\"output\", axis=1), \n",
    "                                                    outlierfree_data[\"output\"],\n",
    "                                                    test_size=0.2)"
   ]
  },
  {
   "cell_type": "code",
   "execution_count": null,
   "id": "6f487db0",
   "metadata": {},
   "outputs": [],
   "source": [
    "x_train.shape"
   ]
  },
  {
   "cell_type": "code",
   "execution_count": null,
   "id": "784b5692",
   "metadata": {},
   "outputs": [],
   "source": [
    "from utils import model_building\n",
    "models = []\n",
    "models.append(('LogisticRegression',LogisticRegression(max_iter=1000, random_state=42)))\n",
    "models.append(('DicisionTree',DecisionTreeClassifier(random_state=0)))\n",
    "models.append(('RandomForest',RandomForestClassifier(n_estimators=100,\n",
    "                                 max_leaf_nodes=10,\n",
    "                                 bootstrap=False,\n",
    "                                 max_samples=100,\n",
    "                                 n_jobs=-1,\n",
    "                                 random_state=0)))\n",
    "\n",
    "for name, model in models:\n",
    "    train_score, val_score = model_building(model, x_train, y_train)\n",
    "    print(f\"{name}:        training Score  :  {(train_score):0.5f} \")\n",
    "    print(f\"                     validation Score: {val_score:.4f}\")"
   ]
  },
  {
   "cell_type": "code",
   "execution_count": null,
   "id": "a2939e02",
   "metadata": {},
   "outputs": [],
   "source": [
    "models"
   ]
  },
  {
   "cell_type": "code",
   "execution_count": null,
   "id": "083ffdc3",
   "metadata": {},
   "outputs": [],
   "source": [
    "model = models[0]"
   ]
  },
  {
   "cell_type": "code",
   "execution_count": null,
   "id": "dd61ab65",
   "metadata": {},
   "outputs": [],
   "source": [
    "model"
   ]
  },
  {
   "cell_type": "code",
   "execution_count": null,
   "id": "2ba56f6c",
   "metadata": {},
   "outputs": [],
   "source": [
    "clf = model[1]"
   ]
  },
  {
   "cell_type": "code",
   "execution_count": null,
   "id": "6a28416d",
   "metadata": {},
   "outputs": [],
   "source": [
    "clf.predict(x_test[:1])"
   ]
  },
  {
   "cell_type": "code",
   "execution_count": null,
   "id": "9123976f",
   "metadata": {
    "scrolled": true
   },
   "outputs": [],
   "source": [
    "cf_matrix = confusion_matrix(y_test, clf.predict(x_test))\n",
    "sns.heatmap(cf_matrix, annot=True)"
   ]
  },
  {
   "cell_type": "code",
   "execution_count": null,
   "id": "8046bc63",
   "metadata": {
    "scrolled": true
   },
   "outputs": [],
   "source": [
    "from utils import model_evaluation\n",
    "result = model_evaluation(clf, x_test, y_test)"
   ]
  },
  {
   "cell_type": "code",
   "execution_count": null,
   "id": "18b28ced",
   "metadata": {
    "scrolled": true
   },
   "outputs": [],
   "source": [
    "result"
   ]
  },
  {
   "cell_type": "code",
   "execution_count": null,
   "id": "5d4a60e7",
   "metadata": {},
   "outputs": [],
   "source": []
  }
 ],
 "metadata": {
  "kernelspec": {
   "display_name": "Python 3 (ipykernel)",
   "language": "python",
   "name": "python3"
  },
  "language_info": {
   "codemirror_mode": {
    "name": "ipython",
    "version": 3
   },
   "file_extension": ".py",
   "mimetype": "text/x-python",
   "name": "python",
   "nbconvert_exporter": "python",
   "pygments_lexer": "ipython3",
   "version": "3.8.10"
  }
 },
 "nbformat": 4,
 "nbformat_minor": 5
}
